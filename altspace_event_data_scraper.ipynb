{
 "cells": [
  {
   "cell_type": "markdown",
   "metadata": {},
   "source": [
    "## AltSpace Data Collector\n",
    "This Jupyter notebook is for collecting data on events in the main event page being hosted in AltSpace."
   ]
  },
  {
   "cell_type": "code",
   "execution_count": null,
   "metadata": {},
   "outputs": [],
   "source": [
    "!pip install bs4"
   ]
  },
  {
   "cell_type": "code",
   "execution_count": 3,
   "metadata": {},
   "outputs": [],
   "source": [
    "from bs4 import BeautifulSoup\n",
    "from datetime import datetime\n",
    "import pandas as pd\n",
    "import requests\n",
    "import re\n",
    "import sched\n",
    "import time\n",
    "import traceback"
   ]
  },
  {
   "cell_type": "code",
   "execution_count": 23,
   "metadata": {},
   "outputs": [],
   "source": [
    "base_url = \"https://account.altvr.com\"\n",
    "save_dir = './'\n",
    "# Gets information related to all current events\n",
    "def get_data_for_all_current_events():\n",
    "    results = {}\n",
    "    try:\n",
    "        # Navigate to the main page\n",
    "        main_events_page_url = base_url + \"/events/main\"\n",
    "        main_events_result = requests.get(main_events_page_url)\n",
    "        data = main_events_result.text\n",
    "        main_events_page = BeautifulSoup(data, 'html.parser')\n",
    "\n",
    "        # Get list of event links\n",
    "        event_links = main_events_page.find_all(\"a\", class_=\"block-link\")\n",
    "        for event_link in event_links:\n",
    "            # Navigate to event page\n",
    "            event_url = base_url + event_link['href']\n",
    "            event_result = requests.get(event_url)\n",
    "            event_data = event_result.text\n",
    "            event_page = BeautifulSoup(event_data, 'html.parser')\n",
    "            live_marker = event_page.find('div', class_=\"live-text\") # used to check if event is live\n",
    "            \n",
    "            # Quit if no live marker because we've reached the end of the live events\n",
    "            if live_marker is None:\n",
    "                break\n",
    "            \n",
    "            # Get event id\n",
    "            event_id = re.search('.*/([0-9]*)', event_url)[1]\n",
    "            \n",
    "            # Get title and tagline\n",
    "            title_el = event_page.find('div', class_=\"title\")\n",
    "            title = title_el.find('h1', class_=\"name\").text\n",
    "            tagline = title_el.find('h2', class_=\"tagline\").text\n",
    "            \n",
    "            # Get owner and url for ch\n",
    "            owner_el = event_page.find('div', class_=\"owner\")\n",
    "            is_channel = owner_el.find('div', class_=\"favorite-button\") is not None\n",
    "            owner_name = ''\n",
    "            owner_url = ''\n",
    "            if is_channel:\n",
    "                owner_name = owner_el.find('h2').text\n",
    "                owner_url = base_url + owner_el.find('a')['href']\n",
    "            else:\n",
    "                owner_name = owner_el.find('h3').text\n",
    "            \n",
    "            # Get start and times\n",
    "            time_el = event_page.find('div', class_=\"time-info-one-line-no-day-of-week\")\n",
    "            start_time_unix = time_el['data-unix-start-time']\n",
    "            end_time_unix = time_el['data-unix-end-time']\n",
    "\n",
    "            # Get number of people inside event\n",
    "            num_people = int(event_page.find('div', class_=\"stat--value\").text) # used to check if event is live\n",
    "            \n",
    "            # Add all the information to a data dictionary\n",
    "            results[event_id] = {\n",
    "                'url': event_url,\n",
    "                'title': title,\n",
    "                'tagline': tagline,\n",
    "                'is_channel': is_channel,\n",
    "                'owner_name': owner_name,\n",
    "                'owner_url': owner_url,\n",
    "                'start_time_unix': start_time_unix,\n",
    "                'end_time_unix': end_time_unix,\n",
    "                'num_people': num_people\n",
    "            }\n",
    "            \n",
    "        return results\n",
    "\n",
    "    except:\n",
    "        print(\"Exception occured while attempting to collect data, returning None\")\n",
    "        traceback.print_exc()\n",
    "        return None"
   ]
  },
  {
   "cell_type": "code",
   "execution_count": null,
   "metadata": {},
   "outputs": [
    {
     "name": "stdout",
     "output_type": "stream",
     "text": [
      "c_time: 2021-03-08 23:52:21.586566 | r_time: 2021-03-08 23:52:24.098855 | f_time: 2021-03-08 23:52:24.106854\n"
     ]
    }
   ],
   "source": [
    "def capture_data():\n",
    "    call_time = datetime.now()\n",
    "    data = get_data_for_all_current_events()\n",
    "    retrieval_time = datetime.now()\n",
    "    data_df = pd.DataFrame(data.values(), index=data.keys())\n",
    "    data_df['retrieval_time'] = retrieval_time.strftime(\"%m-%d-%Y %H-%M-%S\")\n",
    "    data_df.index.set_names('event_id', inplace=True)\n",
    "    data_df.to_csv(save_dir + retrieval_time.strftime(\"%m-%d-%Y %H-%M-%S\") + '.csv')\n",
    "    print(f\"c_time: {call_time} | r_time: {retrieval_time} | f_time: {datetime.now()}\")\n",
    "\n",
    "# Run every 15 minutes\n",
    "start_time = time.time()\n",
    "delay_time = 900.0\n",
    "while True:\n",
    "    capture_data()\n",
    "    time.sleep(delay_time - ((time.time() - start_time) % delay_time))"
   ]
  },
  {
   "cell_type": "code",
   "execution_count": null,
   "metadata": {},
   "outputs": [],
   "source": []
  }
 ],
 "metadata": {
  "kernelspec": {
   "display_name": "Python 3",
   "language": "python",
   "name": "python3"
  },
  "language_info": {
   "codemirror_mode": {
    "name": "ipython",
    "version": 3
   },
   "file_extension": ".py",
   "mimetype": "text/x-python",
   "name": "python",
   "nbconvert_exporter": "python",
   "pygments_lexer": "ipython3",
   "version": "3.7.0"
  }
 },
 "nbformat": 4,
 "nbformat_minor": 2
}
